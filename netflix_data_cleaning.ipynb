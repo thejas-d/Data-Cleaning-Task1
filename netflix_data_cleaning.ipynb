{
 "cells": [
  {
   "cell_type": "markdown",
   "id": "4e8b3027",
   "metadata": {},
   "source": [
    "# 📊 Netflix Movies Data Cleaning\n",
    "This notebook performs data cleaning on the Netflix Movies dataset up to 2025."
   ]
  },
  {
   "cell_type": "code",
   "execution_count": null,
   "id": "95758be9",
   "metadata": {},
   "outputs": [],
   "source": [
    "\n",
    "import pandas as pd\n"
   ]
  },
  {
   "cell_type": "code",
   "execution_count": null,
   "id": "60b645ce",
   "metadata": {},
   "outputs": [],
   "source": [
    "\n",
    "# Load the dataset\n",
    "df = pd.read_csv('netflix_movies_detailed_up_to_2025.csv')\n",
    "\n",
    "# Check initial data\n",
    "df.head()\n"
   ]
  },
  {
   "cell_type": "code",
   "execution_count": null,
   "id": "5cb05a1c",
   "metadata": {},
   "outputs": [],
   "source": [
    "\n",
    "# Dataset information\n",
    "df.info()\n"
   ]
  },
  {
   "cell_type": "code",
   "execution_count": null,
   "id": "8af4e24f",
   "metadata": {},
   "outputs": [],
   "source": [
    "\n",
    "# Drop 'duration' column since it's completely empty\n",
    "df.drop(columns=['duration'], inplace=True)\n",
    "\n",
    "# Fill missing 'director', 'cast', 'description' with 'Unknown'\n",
    "for col in ['director', 'cast', 'description']:\n",
    "    df[col].fillna('Unknown', inplace=True)\n",
    "\n",
    "# Fill missing 'genres' and 'country' with 'Not Specified'\n",
    "df['genres'].fillna('Not Specified', inplace=True)\n",
    "df['country'].fillna('Not Specified', inplace=True)\n"
   ]
  },
  {
   "cell_type": "code",
   "execution_count": null,
   "id": "df92689e",
   "metadata": {},
   "outputs": [],
   "source": [
    "\n",
    "# Remove duplicate rows\n",
    "df.drop_duplicates(inplace=True)\n",
    "\n",
    "# Standardize 'country' values\n",
    "df['country'] = df['country'].str.strip().str.title()\n"
   ]
  },
  {
   "cell_type": "code",
   "execution_count": null,
   "id": "939b620a",
   "metadata": {},
   "outputs": [],
   "source": [
    "\n",
    "# Convert 'date_added' to datetime\n",
    "df['date_added'] = pd.to_datetime(df['date_added'], errors='coerce')\n",
    "\n",
    "# Rename columns to snake_case\n",
    "df.columns = df.columns.str.strip().str.lower().str.replace(' ', '_')\n"
   ]
  },
  {
   "cell_type": "code",
   "execution_count": null,
   "id": "7e378cbb",
   "metadata": {},
   "outputs": [],
   "source": [
    "\n",
    "# Final check of the cleaned dataset\n",
    "df.info()\n",
    "df.head()\n"
   ]
  },
  {
   "cell_type": "code",
   "execution_count": null,
   "id": "0627b402",
   "metadata": {},
   "outputs": [],
   "source": [
    "\n",
    "# Save the cleaned dataset\n",
    "df.to_csv('cleaned_netflix_data.csv', index=False)\n",
    "\n",
    "print(\"✅ Cleaned data saved as 'cleaned_netflix_data.csv'\")\n"
   ]
  }
 ],
 "metadata": {},
 "nbformat": 4,
 "nbformat_minor": 5
}